{
  "nbformat": 4,
  "nbformat_minor": 0,
  "metadata": {
    "colab": {
      "name": "CreateGraph_CocoaBeans.ipynb",
      "provenance": [],
      "collapsed_sections": []
    },
    "kernelspec": {
      "name": "python3",
      "display_name": "Python 3"
    },
    "language_info": {
      "name": "python"
    }
  },
  "cells": [
    {
      "cell_type": "code",
      "metadata": {
        "colab": {
          "base_uri": "https://localhost:8080/"
        },
        "id": "3Fn4faqIUfAH",
        "outputId": "cf10775a-a008-4666-d211-c28c941a0d03"
      },
      "source": [
        "from google.colab import drive        #Mounting the drive\n",
        "drive.mount('/content/drive')"
      ],
      "execution_count": 2,
      "outputs": [
        {
          "output_type": "stream",
          "text": [
            "Mounted at /content/drive\n"
          ],
          "name": "stdout"
        }
      ]
    },
    {
      "cell_type": "code",
      "metadata": {
        "id": "FXmdkkNSWGse"
      },
      "source": [
        "import matplotlib.pyplot as plt         #importing the modules\n",
        "import numpy as np\n",
        "import seaborn as sns"
      ],
      "execution_count": 3,
      "outputs": []
    },
    {
      "cell_type": "code",
      "metadata": {
        "id": "J35ZzgR_R0bZ"
      },
      "source": [
        "import pandas as pd           #Importing pandas and creagting a dataframe\n",
        "filename = '/content/drive/MyDrive/CODING_DOJO/WEEK3/Global import of cocoa beans.xlsx'     #Data taken from https://data.world/makeovermonday/2020w52\n",
        "Cocoa_df=pd.read_excel(filename)"
      ],
      "execution_count": 4,
      "outputs": []
    },
    {
      "cell_type": "code",
      "metadata": {
        "colab": {
          "base_uri": "https://localhost:8080/"
        },
        "id": "AWjDOUI5TMVe",
        "outputId": "1794f1a4-9e75-4bf7-9ea8-10727cefc0f4"
      },
      "source": [
        "Cocoa_df.info()        #Checking for any missing values"
      ],
      "execution_count": 5,
      "outputs": [
        {
          "output_type": "stream",
          "text": [
            "<class 'pandas.core.frame.DataFrame'>\n",
            "RangeIndex: 15 entries, 0 to 14\n",
            "Data columns (total 3 columns):\n",
            " #   Column            Non-Null Count  Dtype \n",
            "---  ------            --------------  ----- \n",
            " 0   Region            15 non-null     object\n",
            " 1   Year              15 non-null     int64 \n",
            " 2   Import in tonnes  15 non-null     int64 \n",
            "dtypes: int64(2), object(1)\n",
            "memory usage: 488.0+ bytes\n"
          ],
          "name": "stdout"
        }
      ]
    },
    {
      "cell_type": "code",
      "metadata": {
        "colab": {
          "base_uri": "https://localhost:8080/",
          "height": 204
        },
        "id": "91UhTtozDxv-",
        "outputId": "04869168-ea28-4c62-fa04-bad505061ea3"
      },
      "source": [
        "Cocoa_df.head()       #checking the dataset"
      ],
      "execution_count": 6,
      "outputs": [
        {
          "output_type": "execute_result",
          "data": {
            "text/html": [
              "<div>\n",
              "<style scoped>\n",
              "    .dataframe tbody tr th:only-of-type {\n",
              "        vertical-align: middle;\n",
              "    }\n",
              "\n",
              "    .dataframe tbody tr th {\n",
              "        vertical-align: top;\n",
              "    }\n",
              "\n",
              "    .dataframe thead th {\n",
              "        text-align: right;\n",
              "    }\n",
              "</style>\n",
              "<table border=\"1\" class=\"dataframe\">\n",
              "  <thead>\n",
              "    <tr style=\"text-align: right;\">\n",
              "      <th></th>\n",
              "      <th>Region</th>\n",
              "      <th>Year</th>\n",
              "      <th>Import in tonnes</th>\n",
              "    </tr>\n",
              "  </thead>\n",
              "  <tbody>\n",
              "    <tr>\n",
              "      <th>0</th>\n",
              "      <td>Asia &amp; Oceania</td>\n",
              "      <td>2015</td>\n",
              "      <td>565000</td>\n",
              "    </tr>\n",
              "    <tr>\n",
              "      <th>1</th>\n",
              "      <td>Asia &amp; Oceania</td>\n",
              "      <td>2016</td>\n",
              "      <td>592000</td>\n",
              "    </tr>\n",
              "    <tr>\n",
              "      <th>2</th>\n",
              "      <td>Asia &amp; Oceania</td>\n",
              "      <td>2017</td>\n",
              "      <td>866000</td>\n",
              "    </tr>\n",
              "    <tr>\n",
              "      <th>3</th>\n",
              "      <td>Asia &amp; Oceania</td>\n",
              "      <td>2018</td>\n",
              "      <td>927000</td>\n",
              "    </tr>\n",
              "    <tr>\n",
              "      <th>4</th>\n",
              "      <td>Asia &amp; Oceania</td>\n",
              "      <td>2019</td>\n",
              "      <td>924000</td>\n",
              "    </tr>\n",
              "  </tbody>\n",
              "</table>\n",
              "</div>"
            ],
            "text/plain": [
              "           Region  Year  Import in tonnes\n",
              "0  Asia & Oceania  2015            565000\n",
              "1  Asia & Oceania  2016            592000\n",
              "2  Asia & Oceania  2017            866000\n",
              "3  Asia & Oceania  2018            927000\n",
              "4  Asia & Oceania  2019            924000"
            ]
          },
          "metadata": {
            "tags": []
          },
          "execution_count": 6
        }
      ]
    },
    {
      "cell_type": "code",
      "metadata": {
        "colab": {
          "base_uri": "https://localhost:8080/"
        },
        "id": "ZrWKk8vED4WR",
        "outputId": "d1510240-bdbf-436f-d6de-65294fe18ec0"
      },
      "source": [
        "Cocoa_df_1=Cocoa_df.groupby(['Region'])['Import in tonnes'].sum()         #grouping the data regionwise to get the share of import per region\n",
        "Cocoa_df_1\n"
      ],
      "execution_count": 7,
      "outputs": [
        {
          "output_type": "execute_result",
          "data": {
            "text/plain": [
              "Region\n",
              "Americas           2999000\n",
              "Asia & Oceania     3874000\n",
              "Europe            11714000\n",
              "Name: Import in tonnes, dtype: int64"
            ]
          },
          "metadata": {
            "tags": []
          },
          "execution_count": 7
        }
      ]
    },
    {
      "cell_type": "markdown",
      "metadata": {
        "id": "IagQ6kZWCFj2"
      },
      "source": [
        ""
      ]
    },
    {
      "cell_type": "code",
      "metadata": {
        "id": "z7zk3qd5At1K"
      },
      "source": [
        "Cocoa_df_1_X=Cocoa_df_1.index\n",
        "Cocoa_df_1_Y=Cocoa_df_1.values\n"
      ],
      "execution_count": 8,
      "outputs": []
    },
    {
      "cell_type": "code",
      "metadata": {
        "id": "z6XWPR665QvD"
      },
      "source": [
        "temp=Cocoa_df_1_Y.sum()"
      ],
      "execution_count": 9,
      "outputs": []
    },
    {
      "cell_type": "code",
      "metadata": {
        "colab": {
          "base_uri": "https://localhost:8080/",
          "height": 264
        },
        "id": "2ibSahvJ5Gj9",
        "outputId": "c0fb4504-263e-4fe7-c183-275170e46309"
      },
      "source": [
        "for ele in range(0,len(Cocoa_df_1_Y)):              #calculating the percent share of total import\n",
        "  Cocoa_df_1_Y[ele]=Cocoa_df_1_Y[ele]/temp*100\n",
        "\n",
        "mycolors=['slategrey', 'greenyellow', 'orchid' ]\n",
        "\n",
        "plt.pie(Cocoa_df_1_Y, labels=Cocoa_df_1_X, autopct='%1.1f%%', colors=mycolors);\n",
        "plt.title('Percent Share per Region of the Total Import of Cocoa Beans', c='navy', fontweight='bold');"
      ],
      "execution_count": 10,
      "outputs": [
        {
          "output_type": "display_data",
          "data": {
            "image/png": "[encoded data removed]",
            "text/plain": [
              "<Figure size 432x288 with 1 Axes>"
            ]
          },
          "metadata": {
            "tags": []
          }
        }
      ]
    },
    {
      "cell_type": "markdown",
      "metadata": {
        "id": "-AtK_HaYRNfg"
      },
      "source": [
        "***This plot gives us the percent breakdown of the each region's share in Global Cocoa Beans Import. Clearly Europe has been a leader in the cocoa beans imports.***"
      ]
    },
    {
      "cell_type": "code",
      "metadata": {
        "colab": {
          "base_uri": "https://localhost:8080/",
          "height": 353
        },
        "id": "SD1wDrp54SF0",
        "outputId": "46008849-1011-4f11-9f06-ae6ca45b6746"
      },
      "source": [
        "Cocoa_df_2=Cocoa_df.groupby(['Year'])['Import in tonnes'].sum()       #Grouping all the imports per year\n",
        "Cocoa_df_2\n",
        "Cocoa_df_2_X=Cocoa_df_2.index\n",
        "Cocoa_df_2_Y=Cocoa_df_2.values\n",
        "\n",
        "sns.barplot(Cocoa_df_2_X, Cocoa_df_2_Y);\n",
        "plt.title('Total Import of Cocoa Beans over the years', fontweight='bold')\n",
        "plt.xlabel('YEAR', fontweight='bold', c='red', fontsize=14)\n",
        "plt.ylabel('TONNES', fontweight='bold', c='red', fontsize=14);"
      ],
      "execution_count": 15,
      "outputs": [
        {
          "output_type": "stream",
          "text": [
            "/usr/local/lib/python3.7/dist-packages/seaborn/_decorators.py:43: FutureWarning: Pass the following variables as keyword args: x, y. From version 0.12, the only valid positional argument will be `data`, and passing other arguments without an explicit keyword will result in an error or misinterpretation.\n",
            "  FutureWarning\n"
          ],
          "name": "stderr"
        },
        {
          "output_type": "display_data",
          "data": {
            "image/png": "[encoded data removed]",
            "text/plain": [
              "<Figure size 432x288 with 1 Axes>"
            ]
          },
          "metadata": {
            "tags": [],
            "needs_background": "light"
          }
        }
      ]
    },
    {
      "cell_type": "markdown",
      "metadata": {
        "id": "7fxXvETbESMA"
      },
      "source": [
        "***The import of Cocoa Beans seems to have peaked in the year 2018. Later it decreased again in 2019. It is the overall demand of cocoa beans in all the regions.***"
      ]
    },
    {
      "cell_type": "code",
      "metadata": {
        "id": "kNvWRcgzQPgD",
        "colab": {
          "base_uri": "https://localhost:8080/",
          "height": 351
        },
        "outputId": "7394fb0c-0ed8-47b5-bb9e-1aa5a8064966"
      },
      "source": [
        "Cocoa_df_3_A=Cocoa_df.loc[(Cocoa_df['Region']=='Asia & Oceania',('Year', 'Import in tonnes'))]      #Clustered bar diagram to compare the imports in each region per year\n",
        "Cocoa_df_3_A_X=Cocoa_df_3_A['Year'].values                                                          #Inspired by https://www.geeksforgeeks.org/plotting-multiple-bar-charts-using-matplotlib-in-python/\n",
        "Cocoa_df_3_X=np.arange(len(Cocoa_df_3_A_X))\n",
        "\n",
        "Cocoa_df_3_A_Y=Cocoa_df_3_A['Import in tonnes'].values\n",
        "Cocoa_df_3_E=Cocoa_df.loc[(Cocoa_df['Region']=='Europe',('Year', 'Import in tonnes'))]\n",
        "Cocoa_df_3_E_Y=Cocoa_df_3_E['Import in tonnes'].values\n",
        "Cocoa_df_3_Am=Cocoa_df.loc[(Cocoa_df['Region']=='Americas',('Year', 'Import in tonnes'))]\n",
        "Cocoa_df_3_Am_Y=Cocoa_df_3_Am['Import in tonnes'].values\n",
        "\n",
        "plt.bar(Cocoa_df_3_X - 0.2,Cocoa_df_3_A_Y, 0.2, color= 'lightsteelblue', label = 'Imports in Asia & Oceanic Region')\n",
        "plt.bar(Cocoa_df_3_X - 0,Cocoa_df_3_E_Y, 0.2, color= 'royalblue', label = 'Imports in Europe')\n",
        "plt.bar(Cocoa_df_3_X + 0.2,Cocoa_df_3_Am_Y, 0.2, color= 'slategray', label = 'Imports in Americas')\n",
        "plt.xticks(Cocoa_df_3_X, Cocoa_df_3_A_X)\n",
        "plt.xlabel('YEARS', fontweight='bold', c='mediumblue')\n",
        "plt.ylabel('TONNES', fontweight='bold', c='mediumblue')\n",
        "plt.title('Regional Imports of Cocoa Bean per Year',c='steelblue', fontweight='bold', fontsize=12)\n",
        "plt.legend(loc= (0.2,-0.4));"
      ],
      "execution_count": 12,
      "outputs": [
        {
          "output_type": "display_data",
          "data": {
            "image/png": "[encoded data removed]",
            "text/plain": [
              "<Figure size 432x288 with 1 Axes>"
            ]
          },
          "metadata": {
            "tags": [],
            "needs_background": "light"
          }
        }
      ]
    },
    {
      "cell_type": "markdown",
      "metadata": {
        "id": "ZkTznUTxTaL_"
      },
      "source": [
        "***This plot gives the side by side comparison of the imports of Cocoa Bean by separate regions in each year.***"
      ]
    },
    {
      "cell_type": "code",
      "metadata": {
        "id": "d61z2TRxsYzC"
      },
      "source": [
        ""
      ],
      "execution_count": 12,
      "outputs": []
    }
  ]
}